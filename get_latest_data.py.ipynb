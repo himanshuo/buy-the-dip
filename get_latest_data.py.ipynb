{
 "cells": [
  {
   "cell_type": "code",
   "id": "initial_id",
   "metadata": {
    "collapsed": true,
    "ExecuteTime": {
     "end_time": "2025-07-20T16:30:47.436518Z",
     "start_time": "2025-07-20T16:30:47.434171Z"
    }
   },
   "source": "import yfinance as yf\n",
   "outputs": [],
   "execution_count": 13
  },
  {
   "metadata": {
    "ExecuteTime": {
     "end_time": "2025-07-21T23:55:49.268246Z",
     "start_time": "2025-07-21T23:55:48.970079Z"
    }
   },
   "cell_type": "code",
   "source": [
    "ticker = yf.Ticker('VOO')\n",
    "ticker.info"
   ],
   "id": "b39ff702c333d2ab",
   "outputs": [
    {
     "data": {
      "text/plain": [
       "{'phone': '800-523-1036',\n",
       " 'longBusinessSummary': \"The fund employs an indexing investment approach designed to track the performance of the Standard & Poor's 500 Index, a widely recognized benchmark of U.S. stock market performance that is dominated by the stocks of large U.S. companies. The advisor attempts to replicate the target index by investing all, or substantially all, of its assets in the stocks that make up the index, holding each stock in approximately the same proportion as its weighting in the index. The fund is non-diversified.\",\n",
       " 'companyOfficers': [],\n",
       " 'executiveTeam': [],\n",
       " 'maxAge': 86400,\n",
       " 'priceHint': 2,\n",
       " 'previousClose': 576.92,\n",
       " 'open': 577.98,\n",
       " 'dayLow': 577.59,\n",
       " 'dayHigh': 580.53,\n",
       " 'regularMarketPreviousClose': 576.92,\n",
       " 'regularMarketOpen': 577.98,\n",
       " 'regularMarketDayLow': 577.59,\n",
       " 'regularMarketDayHigh': 580.53,\n",
       " 'trailingPE': 27.424055,\n",
       " 'volume': 5553213,\n",
       " 'regularMarketVolume': 5553213,\n",
       " 'averageVolume': 6549554,\n",
       " 'averageVolume10days': 5694820,\n",
       " 'averageDailyVolume10Day': 5694820,\n",
       " 'bid': 578.13,\n",
       " 'ask': 578.27,\n",
       " 'bidSize': 1,\n",
       " 'askSize': 1,\n",
       " 'yield': 0.0128999995,\n",
       " 'totalAssets': 1427621806080,\n",
       " 'fiftyTwoWeekLow': 442.8,\n",
       " 'fiftyTwoWeekHigh': 580.53,\n",
       " 'fiftyDayAverage': 552.8556,\n",
       " 'twoHundredDayAverage': 538.3096,\n",
       " 'trailingAnnualDividendRate': 5.437,\n",
       " 'trailingAnnualDividendYield': 0.0094241835,\n",
       " 'navPrice': 551.28,\n",
       " 'currency': 'USD',\n",
       " 'tradeable': False,\n",
       " 'category': 'Large Blend',\n",
       " 'ytdReturn': 1.05195,\n",
       " 'beta3Year': 1.0,\n",
       " 'fundFamily': 'Vanguard',\n",
       " 'fundInceptionDate': 974073600,\n",
       " 'legalType': 'Exchange Traded Fund',\n",
       " 'threeYearAverageReturn': 0.1605838,\n",
       " 'fiveYearAverageReturn': 0.1505404,\n",
       " 'quoteType': 'ETF',\n",
       " 'symbol': 'VOO',\n",
       " 'language': 'en-US',\n",
       " 'region': 'US',\n",
       " 'typeDisp': 'ETF',\n",
       " 'quoteSourceName': 'Nasdaq Real Time Price',\n",
       " 'triggerable': True,\n",
       " 'customPriceAlertConfidence': 'HIGH',\n",
       " 'shortName': 'Vanguard S&P 500 ETF',\n",
       " 'longName': 'Vanguard S&P 500 ETF',\n",
       " 'corporateActions': [],\n",
       " 'postMarketTime': 1753142132,\n",
       " 'regularMarketTime': 1753128000,\n",
       " 'exchange': 'PCX',\n",
       " 'messageBoardId': 'finmb_28117396',\n",
       " 'exchangeTimezoneName': 'America/New_York',\n",
       " 'exchangeTimezoneShortName': 'EDT',\n",
       " 'gmtOffSetMilliseconds': -14400000,\n",
       " 'market': 'us_market',\n",
       " 'esgPopulated': False,\n",
       " 'hasPrePostMarketData': True,\n",
       " 'regularMarketChangePercent': 0.178539,\n",
       " 'regularMarketPrice': 577.95,\n",
       " 'firstTradeDateMilliseconds': 1284039000000,\n",
       " 'postMarketChangePercent': 0.03460718,\n",
       " 'postMarketPrice': 578.15,\n",
       " 'postMarketChange': 0.2000122,\n",
       " 'regularMarketChange': 1.03003,\n",
       " 'regularMarketDayRange': '577.59 - 580.53',\n",
       " 'fullExchangeName': 'NYSEArca',\n",
       " 'financialCurrency': 'USD',\n",
       " 'averageDailyVolume3Month': 6549554,\n",
       " 'fiftyTwoWeekLowChange': 135.15002,\n",
       " 'fiftyTwoWeekLowChangePercent': 0.30521688,\n",
       " 'fiftyTwoWeekRange': '442.8 - 580.53',\n",
       " 'fiftyTwoWeekHighChange': -2.580017,\n",
       " 'fiftyTwoWeekHighChangePercent': -0.004444244,\n",
       " 'fiftyTwoWeekChangePercent': 13.168168,\n",
       " 'dividendYield': 1.29,\n",
       " 'trailingThreeMonthReturns': -0.38145,\n",
       " 'trailingThreeMonthNavReturns': -0.38145,\n",
       " 'netAssets': 1427621810000.0,\n",
       " 'epsTrailingTwelveMonths': 21.074564,\n",
       " 'bookValue': 390.854,\n",
       " 'fiftyDayAverageChange': 25.094421,\n",
       " 'fiftyDayAverageChangePercent': 0.045390554,\n",
       " 'twoHundredDayAverageChange': 39.64044,\n",
       " 'twoHundredDayAverageChangePercent': 0.073638745,\n",
       " 'netExpenseRatio': 0.03,\n",
       " 'priceToBook': 1.4786851,\n",
       " 'sourceInterval': 15,\n",
       " 'exchangeDataDelayedBy': 0,\n",
       " 'cryptoTradeable': False,\n",
       " 'marketState': 'POST',\n",
       " 'trailingPegRatio': None}"
      ]
     },
     "execution_count": 37,
     "metadata": {},
     "output_type": "execute_result"
    }
   ],
   "execution_count": 37
  },
  {
   "metadata": {
    "ExecuteTime": {
     "end_time": "2025-07-20T16:34:17.402706Z",
     "start_time": "2025-07-20T16:34:09.807932Z"
    }
   },
   "cell_type": "code",
   "source": [
    "data = {\n",
    "            'current_price': ticker.fast_info.last_price,\n",
    "            'price_at_open': ticker.fast_info.open,\n",
    "            'price_at_close': ticker.fast_info.previous_close,\n",
    "            'price_at_high': ticker.fast_info.day_high,\n",
    "}\n",
    "\n"
   ],
   "id": "dc5a38fdd9c5a49d",
   "outputs": [],
   "execution_count": 25
  },
  {
   "metadata": {
    "ExecuteTime": {
     "end_time": "2025-07-20T16:34:18.874581Z",
     "start_time": "2025-07-20T16:34:18.871072Z"
    }
   },
   "cell_type": "code",
   "source": "data",
   "id": "f9785648b5455d53",
   "outputs": [
    {
     "data": {
      "text/plain": [
       "{'current_price': 1209.239990234375,\n",
       " 'price_at_open': 1241.9599609375,\n",
       " 'price_at_close': 1250.75,\n",
       " 'price_at_high': 1246.5}"
      ]
     },
     "execution_count": 26,
     "metadata": {},
     "output_type": "execute_result"
    }
   ],
   "execution_count": 26
  },
  {
   "metadata": {
    "ExecuteTime": {
     "end_time": "2025-07-20T16:35:12.257504Z",
     "start_time": "2025-07-20T16:35:12.253232Z"
    }
   },
   "cell_type": "code",
   "source": [
    "def alert():\n",
    "    threshold = .03\n",
    "    for key, value in data.items():\n",
    "        if key == 'current_price':\n",
    "            pass\n",
    "        else:\n",
    "            if value*(1-threshold) > data['current_price']:\n",
    "                return True\n",
    "    return False\n",
    "\n",
    "print(alert());\n"
   ],
   "id": "11c6e3156eee3882",
   "outputs": [
    {
     "name": "stdout",
     "output_type": "stream",
     "text": [
      "True\n"
     ]
    }
   ],
   "execution_count": 29
  }
 ],
 "metadata": {
  "kernelspec": {
   "display_name": "Python 3",
   "language": "python",
   "name": "python3"
  },
  "language_info": {
   "codemirror_mode": {
    "name": "ipython",
    "version": 2
   },
   "file_extension": ".py",
   "mimetype": "text/x-python",
   "name": "python",
   "nbconvert_exporter": "python",
   "pygments_lexer": "ipython2",
   "version": "2.7.6"
  }
 },
 "nbformat": 4,
 "nbformat_minor": 5
}
