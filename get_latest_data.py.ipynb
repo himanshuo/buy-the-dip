{
 "cells": [
  {
   "cell_type": "code",
   "id": "initial_id",
   "metadata": {
    "collapsed": true,
    "ExecuteTime": {
     "end_time": "2025-07-24T00:09:54.810602Z",
     "start_time": "2025-07-24T00:09:54.806262Z"
    }
   },
   "source": [
    "import yfinance as yf\n",
    "import numpy as np"
   ],
   "outputs": [],
   "execution_count": 79
  },
  {
   "metadata": {
    "ExecuteTime": {
     "end_time": "2025-07-24T00:12:21.914242Z",
     "start_time": "2025-07-24T00:12:21.774537Z"
    }
   },
   "cell_type": "code",
   "source": [
    "ticker = yf.Ticker('SNOW')\n",
    "ylist = ticker.history(period='2y', interval='1mo').Close\n",
    "xlist = [i for i in range(0, len(ylist))]\n",
    "\n",
    "line = np.polyfit(xlist, ylist, deg=1)\n",
    "slope = line[0]\n",
    "slope"
   ],
   "id": "b39ff702c333d2ab",
   "outputs": [
    {
     "data": {
      "text/plain": [
       "np.float64(0.9670087200662344)"
      ]
     },
     "execution_count": 84,
     "metadata": {},
     "output_type": "execute_result"
    }
   ],
   "execution_count": 84
  },
  {
   "metadata": {
    "ExecuteTime": {
     "end_time": "2025-07-20T16:34:17.402706Z",
     "start_time": "2025-07-20T16:34:09.807932Z"
    }
   },
   "cell_type": "code",
   "source": [
    "data = {\n",
    "            'current_price': ticker.fast_info.last_price,\n",
    "            'price_at_open': ticker.fast_info.open,\n",
    "            'price_at_close': ticker.fast_info.previous_close,\n",
    "            'price_at_high': ticker.fast_info.day_high,\n",
    "}\n",
    "\n"
   ],
   "id": "dc5a38fdd9c5a49d",
   "outputs": [],
   "execution_count": 25
  },
  {
   "metadata": {
    "ExecuteTime": {
     "end_time": "2025-07-20T16:34:18.874581Z",
     "start_time": "2025-07-20T16:34:18.871072Z"
    }
   },
   "cell_type": "code",
   "source": "data",
   "id": "f9785648b5455d53",
   "outputs": [
    {
     "data": {
      "text/plain": [
       "{'current_price': 1209.239990234375,\n",
       " 'price_at_open': 1241.9599609375,\n",
       " 'price_at_close': 1250.75,\n",
       " 'price_at_high': 1246.5}"
      ]
     },
     "execution_count": 26,
     "metadata": {},
     "output_type": "execute_result"
    }
   ],
   "execution_count": 26
  },
  {
   "metadata": {
    "ExecuteTime": {
     "end_time": "2025-07-20T16:35:12.257504Z",
     "start_time": "2025-07-20T16:35:12.253232Z"
    }
   },
   "cell_type": "code",
   "source": [
    "def alert():\n",
    "    threshold = .03\n",
    "    for key, value in data.items():\n",
    "        if key == 'current_price':\n",
    "            pass\n",
    "        else:\n",
    "            if value*(1-threshold) > data['current_price']:\n",
    "                return True\n",
    "    return False\n",
    "\n",
    "print(alert());\n"
   ],
   "id": "11c6e3156eee3882",
   "outputs": [
    {
     "name": "stdout",
     "output_type": "stream",
     "text": [
      "True\n"
     ]
    }
   ],
   "execution_count": 29
  }
 ],
 "metadata": {
  "kernelspec": {
   "display_name": "Python 3",
   "language": "python",
   "name": "python3"
  },
  "language_info": {
   "codemirror_mode": {
    "name": "ipython",
    "version": 2
   },
   "file_extension": ".py",
   "mimetype": "text/x-python",
   "name": "python",
   "nbconvert_exporter": "python",
   "pygments_lexer": "ipython2",
   "version": "2.7.6"
  }
 },
 "nbformat": 4,
 "nbformat_minor": 5
}
